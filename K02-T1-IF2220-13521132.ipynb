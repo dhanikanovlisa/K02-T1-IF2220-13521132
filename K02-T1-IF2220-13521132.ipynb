{
 "cells": [
  {
   "attachments": {},
   "cell_type": "markdown",
   "metadata": {},
   "source": [
    "# Tugas Besar I IF2200 Probabilitas dan Statistika\n",
    "### Penarikan Kesimpulan dan Pengujian Hipotesis\n",
    "\n",
    "Dibuat oleh: <br>\n",
    "Dhanika Novlisariyanti (13521132) <br>\n",
    "Brigita Tri Carolina (13521156) <br>"
   ]
  },
  {
   "attachments": {},
   "cell_type": "markdown",
   "metadata": {},
   "source": [
    "## Load Data"
   ]
  },
  {
   "cell_type": "code",
   "execution_count": 3,
   "metadata": {},
   "outputs": [
    {
     "data": {
      "text/html": [
       "<div>\n",
       "<style scoped>\n",
       "    .dataframe tbody tr th:only-of-type {\n",
       "        vertical-align: middle;\n",
       "    }\n",
       "\n",
       "    .dataframe tbody tr th {\n",
       "        vertical-align: top;\n",
       "    }\n",
       "\n",
       "    .dataframe thead th {\n",
       "        text-align: right;\n",
       "    }\n",
       "</style>\n",
       "<table border=\"1\" class=\"dataframe\">\n",
       "  <thead>\n",
       "    <tr style=\"text-align: right;\">\n",
       "      <th></th>\n",
       "      <th>fixed acidity</th>\n",
       "      <th>volatile acidity</th>\n",
       "      <th>citric acid</th>\n",
       "      <th>residual sugar</th>\n",
       "      <th>chlorides</th>\n",
       "      <th>free sulfur dioxide</th>\n",
       "      <th>total sulfur dioxide</th>\n",
       "      <th>density</th>\n",
       "      <th>pH</th>\n",
       "      <th>sulphates</th>\n",
       "      <th>alcohol</th>\n",
       "      <th>quality</th>\n",
       "    </tr>\n",
       "  </thead>\n",
       "  <tbody>\n",
       "    <tr>\n",
       "      <th>0</th>\n",
       "      <td>5.90</td>\n",
       "      <td>0.4451</td>\n",
       "      <td>0.1813</td>\n",
       "      <td>2.049401</td>\n",
       "      <td>0.070574</td>\n",
       "      <td>16.593818</td>\n",
       "      <td>42.27</td>\n",
       "      <td>0.9982</td>\n",
       "      <td>3.27</td>\n",
       "      <td>0.71</td>\n",
       "      <td>8.64</td>\n",
       "      <td>7</td>\n",
       "    </tr>\n",
       "    <tr>\n",
       "      <th>1</th>\n",
       "      <td>8.40</td>\n",
       "      <td>0.5768</td>\n",
       "      <td>0.2099</td>\n",
       "      <td>3.109590</td>\n",
       "      <td>0.101681</td>\n",
       "      <td>22.555519</td>\n",
       "      <td>16.01</td>\n",
       "      <td>0.9960</td>\n",
       "      <td>3.35</td>\n",
       "      <td>0.57</td>\n",
       "      <td>10.03</td>\n",
       "      <td>8</td>\n",
       "    </tr>\n",
       "    <tr>\n",
       "      <th>2</th>\n",
       "      <td>7.54</td>\n",
       "      <td>0.5918</td>\n",
       "      <td>0.3248</td>\n",
       "      <td>3.673744</td>\n",
       "      <td>0.072416</td>\n",
       "      <td>9.316866</td>\n",
       "      <td>35.52</td>\n",
       "      <td>0.9990</td>\n",
       "      <td>3.31</td>\n",
       "      <td>0.64</td>\n",
       "      <td>9.23</td>\n",
       "      <td>8</td>\n",
       "    </tr>\n",
       "    <tr>\n",
       "      <th>3</th>\n",
       "      <td>5.39</td>\n",
       "      <td>0.4201</td>\n",
       "      <td>0.3131</td>\n",
       "      <td>3.371815</td>\n",
       "      <td>0.072755</td>\n",
       "      <td>18.212300</td>\n",
       "      <td>41.97</td>\n",
       "      <td>0.9945</td>\n",
       "      <td>3.34</td>\n",
       "      <td>0.55</td>\n",
       "      <td>14.07</td>\n",
       "      <td>9</td>\n",
       "    </tr>\n",
       "    <tr>\n",
       "      <th>4</th>\n",
       "      <td>6.51</td>\n",
       "      <td>0.5675</td>\n",
       "      <td>0.1940</td>\n",
       "      <td>4.404723</td>\n",
       "      <td>0.066379</td>\n",
       "      <td>9.360591</td>\n",
       "      <td>46.27</td>\n",
       "      <td>0.9925</td>\n",
       "      <td>3.27</td>\n",
       "      <td>0.45</td>\n",
       "      <td>11.49</td>\n",
       "      <td>8</td>\n",
       "    </tr>\n",
       "    <tr>\n",
       "      <th>...</th>\n",
       "      <td>...</td>\n",
       "      <td>...</td>\n",
       "      <td>...</td>\n",
       "      <td>...</td>\n",
       "      <td>...</td>\n",
       "      <td>...</td>\n",
       "      <td>...</td>\n",
       "      <td>...</td>\n",
       "      <td>...</td>\n",
       "      <td>...</td>\n",
       "      <td>...</td>\n",
       "      <td>...</td>\n",
       "    </tr>\n",
       "    <tr>\n",
       "      <th>995</th>\n",
       "      <td>7.96</td>\n",
       "      <td>0.6046</td>\n",
       "      <td>0.2662</td>\n",
       "      <td>1.592048</td>\n",
       "      <td>0.057555</td>\n",
       "      <td>14.892445</td>\n",
       "      <td>44.61</td>\n",
       "      <td>0.9975</td>\n",
       "      <td>3.35</td>\n",
       "      <td>0.54</td>\n",
       "      <td>10.41</td>\n",
       "      <td>8</td>\n",
       "    </tr>\n",
       "    <tr>\n",
       "      <th>996</th>\n",
       "      <td>8.48</td>\n",
       "      <td>0.4080</td>\n",
       "      <td>0.2227</td>\n",
       "      <td>0.681955</td>\n",
       "      <td>0.051627</td>\n",
       "      <td>23.548965</td>\n",
       "      <td>25.83</td>\n",
       "      <td>0.9972</td>\n",
       "      <td>3.41</td>\n",
       "      <td>0.46</td>\n",
       "      <td>9.91</td>\n",
       "      <td>8</td>\n",
       "    </tr>\n",
       "    <tr>\n",
       "      <th>997</th>\n",
       "      <td>6.11</td>\n",
       "      <td>0.4841</td>\n",
       "      <td>0.3720</td>\n",
       "      <td>2.377267</td>\n",
       "      <td>0.042806</td>\n",
       "      <td>21.624585</td>\n",
       "      <td>48.75</td>\n",
       "      <td>0.9928</td>\n",
       "      <td>3.23</td>\n",
       "      <td>0.55</td>\n",
       "      <td>9.94</td>\n",
       "      <td>7</td>\n",
       "    </tr>\n",
       "    <tr>\n",
       "      <th>998</th>\n",
       "      <td>7.76</td>\n",
       "      <td>0.3590</td>\n",
       "      <td>0.3208</td>\n",
       "      <td>4.294486</td>\n",
       "      <td>0.098276</td>\n",
       "      <td>12.746186</td>\n",
       "      <td>44.53</td>\n",
       "      <td>0.9952</td>\n",
       "      <td>3.30</td>\n",
       "      <td>0.66</td>\n",
       "      <td>9.76</td>\n",
       "      <td>8</td>\n",
       "    </tr>\n",
       "    <tr>\n",
       "      <th>999</th>\n",
       "      <td>5.87</td>\n",
       "      <td>0.5214</td>\n",
       "      <td>0.1883</td>\n",
       "      <td>2.179490</td>\n",
       "      <td>0.052923</td>\n",
       "      <td>16.203864</td>\n",
       "      <td>24.37</td>\n",
       "      <td>0.9983</td>\n",
       "      <td>3.29</td>\n",
       "      <td>0.70</td>\n",
       "      <td>10.17</td>\n",
       "      <td>7</td>\n",
       "    </tr>\n",
       "  </tbody>\n",
       "</table>\n",
       "<p>1000 rows × 12 columns</p>\n",
       "</div>"
      ],
      "text/plain": [
       "     fixed acidity  volatile acidity  citric acid  residual sugar  chlorides  \\\n",
       "0             5.90            0.4451       0.1813        2.049401   0.070574   \n",
       "1             8.40            0.5768       0.2099        3.109590   0.101681   \n",
       "2             7.54            0.5918       0.3248        3.673744   0.072416   \n",
       "3             5.39            0.4201       0.3131        3.371815   0.072755   \n",
       "4             6.51            0.5675       0.1940        4.404723   0.066379   \n",
       "..             ...               ...          ...             ...        ...   \n",
       "995           7.96            0.6046       0.2662        1.592048   0.057555   \n",
       "996           8.48            0.4080       0.2227        0.681955   0.051627   \n",
       "997           6.11            0.4841       0.3720        2.377267   0.042806   \n",
       "998           7.76            0.3590       0.3208        4.294486   0.098276   \n",
       "999           5.87            0.5214       0.1883        2.179490   0.052923   \n",
       "\n",
       "     free sulfur dioxide  total sulfur dioxide  density    pH  sulphates  \\\n",
       "0              16.593818                 42.27   0.9982  3.27       0.71   \n",
       "1              22.555519                 16.01   0.9960  3.35       0.57   \n",
       "2               9.316866                 35.52   0.9990  3.31       0.64   \n",
       "3              18.212300                 41.97   0.9945  3.34       0.55   \n",
       "4               9.360591                 46.27   0.9925  3.27       0.45   \n",
       "..                   ...                   ...      ...   ...        ...   \n",
       "995            14.892445                 44.61   0.9975  3.35       0.54   \n",
       "996            23.548965                 25.83   0.9972  3.41       0.46   \n",
       "997            21.624585                 48.75   0.9928  3.23       0.55   \n",
       "998            12.746186                 44.53   0.9952  3.30       0.66   \n",
       "999            16.203864                 24.37   0.9983  3.29       0.70   \n",
       "\n",
       "     alcohol  quality  \n",
       "0       8.64        7  \n",
       "1      10.03        8  \n",
       "2       9.23        8  \n",
       "3      14.07        9  \n",
       "4      11.49        8  \n",
       "..       ...      ...  \n",
       "995    10.41        8  \n",
       "996     9.91        8  \n",
       "997     9.94        7  \n",
       "998     9.76        8  \n",
       "999    10.17        7  \n",
       "\n",
       "[1000 rows x 12 columns]"
      ]
     },
     "execution_count": 3,
     "metadata": {},
     "output_type": "execute_result"
    }
   ],
   "source": [
    "import numpy as np \n",
    "import pandas as pd \n",
    "import matplotlib as plt\n",
    "\n",
    "df = pd.read_csv(\"anggur.csv\")\n",
    "df"
   ]
  },
  {
   "attachments": {},
   "cell_type": "markdown",
   "metadata": {},
   "source": [
    "Mengecek apakah ada data yang null"
   ]
  },
  {
   "cell_type": "code",
   "execution_count": 4,
   "metadata": {},
   "outputs": [
    {
     "data": {
      "text/plain": [
       "fixed acidity           0\n",
       "volatile acidity        0\n",
       "citric acid             0\n",
       "residual sugar          0\n",
       "chlorides               0\n",
       "free sulfur dioxide     0\n",
       "total sulfur dioxide    0\n",
       "density                 0\n",
       "pH                      0\n",
       "sulphates               0\n",
       "alcohol                 0\n",
       "quality                 0\n",
       "dtype: int64"
      ]
     },
     "execution_count": 4,
     "metadata": {},
     "output_type": "execute_result"
    }
   ],
   "source": [
    "df.isnull().sum()"
   ]
  },
  {
   "attachments": {},
   "cell_type": "markdown",
   "metadata": {},
   "source": [
    "## 1. Deskripsi Statistika\n",
    "Menulis deskripsi statistika (Descriptive Statistics) dari semua kolom pada data yang bersifat numerik, terdiri dari mean, median, modus, standar deviasi, variansi, range, nilai minimum, maksimum, kuartil, IQR, skewness dan kurtosis. Boleh juga ditambahkan deskripsi lain."
   ]
  },
  {
   "cell_type": "code",
   "execution_count": 5,
   "metadata": {},
   "outputs": [
    {
     "data": {
      "text/html": [
       "<div>\n",
       "<style scoped>\n",
       "    .dataframe tbody tr th:only-of-type {\n",
       "        vertical-align: middle;\n",
       "    }\n",
       "\n",
       "    .dataframe tbody tr th {\n",
       "        vertical-align: top;\n",
       "    }\n",
       "\n",
       "    .dataframe thead th {\n",
       "        text-align: right;\n",
       "    }\n",
       "</style>\n",
       "<table border=\"1\" class=\"dataframe\">\n",
       "  <thead>\n",
       "    <tr style=\"text-align: right;\">\n",
       "      <th></th>\n",
       "      <th>fixed acidity</th>\n",
       "      <th>volatile acidity</th>\n",
       "      <th>citric acid</th>\n",
       "      <th>residual sugar</th>\n",
       "      <th>chlorides</th>\n",
       "      <th>free sulfur dioxide</th>\n",
       "      <th>total sulfur dioxide</th>\n",
       "      <th>density</th>\n",
       "      <th>pH</th>\n",
       "      <th>sulphates</th>\n",
       "      <th>alcohol</th>\n",
       "      <th>quality</th>\n",
       "    </tr>\n",
       "  </thead>\n",
       "  <tbody>\n",
       "    <tr>\n",
       "      <th>count</th>\n",
       "      <td>1000.000000</td>\n",
       "      <td>1000.000000</td>\n",
       "      <td>1000.000000</td>\n",
       "      <td>1000.000000</td>\n",
       "      <td>1000.000000</td>\n",
       "      <td>1000.000000</td>\n",
       "      <td>1000.000000</td>\n",
       "      <td>1000.000000</td>\n",
       "      <td>1000.000000</td>\n",
       "      <td>1000.000000</td>\n",
       "      <td>1000.000000</td>\n",
       "      <td>1000.000000</td>\n",
       "    </tr>\n",
       "    <tr>\n",
       "      <th>mean</th>\n",
       "      <td>7.152530</td>\n",
       "      <td>0.520839</td>\n",
       "      <td>0.270517</td>\n",
       "      <td>2.567104</td>\n",
       "      <td>0.081195</td>\n",
       "      <td>14.907679</td>\n",
       "      <td>40.290150</td>\n",
       "      <td>0.995925</td>\n",
       "      <td>3.303610</td>\n",
       "      <td>0.598390</td>\n",
       "      <td>10.592280</td>\n",
       "      <td>7.958000</td>\n",
       "    </tr>\n",
       "    <tr>\n",
       "      <th>std</th>\n",
       "      <td>1.201598</td>\n",
       "      <td>0.095848</td>\n",
       "      <td>0.049098</td>\n",
       "      <td>0.987915</td>\n",
       "      <td>0.020111</td>\n",
       "      <td>4.888100</td>\n",
       "      <td>9.965767</td>\n",
       "      <td>0.002020</td>\n",
       "      <td>0.104875</td>\n",
       "      <td>0.100819</td>\n",
       "      <td>1.510706</td>\n",
       "      <td>0.902802</td>\n",
       "    </tr>\n",
       "    <tr>\n",
       "      <th>min</th>\n",
       "      <td>3.320000</td>\n",
       "      <td>0.139900</td>\n",
       "      <td>0.116700</td>\n",
       "      <td>0.032555</td>\n",
       "      <td>0.015122</td>\n",
       "      <td>0.194679</td>\n",
       "      <td>3.150000</td>\n",
       "      <td>0.988800</td>\n",
       "      <td>2.970000</td>\n",
       "      <td>0.290000</td>\n",
       "      <td>6.030000</td>\n",
       "      <td>5.000000</td>\n",
       "    </tr>\n",
       "    <tr>\n",
       "      <th>25%</th>\n",
       "      <td>6.377500</td>\n",
       "      <td>0.456100</td>\n",
       "      <td>0.237800</td>\n",
       "      <td>1.896330</td>\n",
       "      <td>0.066574</td>\n",
       "      <td>11.426717</td>\n",
       "      <td>33.785000</td>\n",
       "      <td>0.994600</td>\n",
       "      <td>3.230000</td>\n",
       "      <td>0.530000</td>\n",
       "      <td>9.560000</td>\n",
       "      <td>7.000000</td>\n",
       "    </tr>\n",
       "    <tr>\n",
       "      <th>50%</th>\n",
       "      <td>7.150000</td>\n",
       "      <td>0.524850</td>\n",
       "      <td>0.272200</td>\n",
       "      <td>2.519430</td>\n",
       "      <td>0.082167</td>\n",
       "      <td>14.860346</td>\n",
       "      <td>40.190000</td>\n",
       "      <td>0.996000</td>\n",
       "      <td>3.300000</td>\n",
       "      <td>0.595000</td>\n",
       "      <td>10.610000</td>\n",
       "      <td>8.000000</td>\n",
       "    </tr>\n",
       "    <tr>\n",
       "      <th>75%</th>\n",
       "      <td>8.000000</td>\n",
       "      <td>0.585375</td>\n",
       "      <td>0.302325</td>\n",
       "      <td>3.220873</td>\n",
       "      <td>0.095312</td>\n",
       "      <td>18.313098</td>\n",
       "      <td>47.022500</td>\n",
       "      <td>0.997200</td>\n",
       "      <td>3.370000</td>\n",
       "      <td>0.670000</td>\n",
       "      <td>11.622500</td>\n",
       "      <td>9.000000</td>\n",
       "    </tr>\n",
       "    <tr>\n",
       "      <th>max</th>\n",
       "      <td>11.490000</td>\n",
       "      <td>0.805100</td>\n",
       "      <td>0.409600</td>\n",
       "      <td>5.550755</td>\n",
       "      <td>0.140758</td>\n",
       "      <td>27.462525</td>\n",
       "      <td>69.960000</td>\n",
       "      <td>1.002600</td>\n",
       "      <td>3.710000</td>\n",
       "      <td>0.960000</td>\n",
       "      <td>15.020000</td>\n",
       "      <td>10.000000</td>\n",
       "    </tr>\n",
       "  </tbody>\n",
       "</table>\n",
       "</div>"
      ],
      "text/plain": [
       "       fixed acidity  volatile acidity  citric acid  residual sugar  \\\n",
       "count    1000.000000       1000.000000  1000.000000     1000.000000   \n",
       "mean        7.152530          0.520839     0.270517        2.567104   \n",
       "std         1.201598          0.095848     0.049098        0.987915   \n",
       "min         3.320000          0.139900     0.116700        0.032555   \n",
       "25%         6.377500          0.456100     0.237800        1.896330   \n",
       "50%         7.150000          0.524850     0.272200        2.519430   \n",
       "75%         8.000000          0.585375     0.302325        3.220873   \n",
       "max        11.490000          0.805100     0.409600        5.550755   \n",
       "\n",
       "         chlorides  free sulfur dioxide  total sulfur dioxide      density  \\\n",
       "count  1000.000000          1000.000000           1000.000000  1000.000000   \n",
       "mean      0.081195            14.907679             40.290150     0.995925   \n",
       "std       0.020111             4.888100              9.965767     0.002020   \n",
       "min       0.015122             0.194679              3.150000     0.988800   \n",
       "25%       0.066574            11.426717             33.785000     0.994600   \n",
       "50%       0.082167            14.860346             40.190000     0.996000   \n",
       "75%       0.095312            18.313098             47.022500     0.997200   \n",
       "max       0.140758            27.462525             69.960000     1.002600   \n",
       "\n",
       "                pH    sulphates      alcohol      quality  \n",
       "count  1000.000000  1000.000000  1000.000000  1000.000000  \n",
       "mean      3.303610     0.598390    10.592280     7.958000  \n",
       "std       0.104875     0.100819     1.510706     0.902802  \n",
       "min       2.970000     0.290000     6.030000     5.000000  \n",
       "25%       3.230000     0.530000     9.560000     7.000000  \n",
       "50%       3.300000     0.595000    10.610000     8.000000  \n",
       "75%       3.370000     0.670000    11.622500     9.000000  \n",
       "max       3.710000     0.960000    15.020000    10.000000  "
      ]
     },
     "execution_count": 5,
     "metadata": {},
     "output_type": "execute_result"
    }
   ],
   "source": [
    "df.describe()"
   ]
  },
  {
   "cell_type": "code",
   "execution_count": 12,
   "metadata": {},
   "outputs": [],
   "source": [
    "def describeStatistics(df):\n",
    "    print(\"Mean\\t: \", df.mean())\n",
    "    print(\"Median\\t: \", df.median())\n",
    "    print(\"Modus\\t: \", df.mode().iat[0])\n",
    "    print(\"Standar Deviasi\\t: \", df.std())\n",
    "    print(\"Variansi\\t: \", df.var())\n",
    "    print(\"Range\\t\\t: \", df.max() - df.min())\n",
    "    print(\"Nilai Minimum\\t: \", df.min())\n",
    "    print(\"Nilai Maksimum\\t: \", df.max())\n",
    "    print(\"Q1\\t\\t: \", df.quantile(0.25))\n",
    "    print(\"Q2\\t\\t: \", df.quantile(0.50))\n",
    "    print(\"Q3\\t\\t: \", df.quantile(0.75))\n",
    "    print(\"IQR\\t\\t: \", df.quantile(0.75) - df.quantile(0.25))\n",
    "    print(\"Skewness\\t: \", df.skew())\n",
    "    print(\"Kurtosis\\t: \", df.kurtosis())\n",
    "    \n",
    "    "
   ]
  },
  {
   "attachments": {},
   "cell_type": "markdown",
   "metadata": {},
   "source": [
    "### Deskripsi Statistika Fixed Acidity"
   ]
  },
  {
   "cell_type": "code",
   "execution_count": 13,
   "metadata": {},
   "outputs": [
    {
     "name": "stdout",
     "output_type": "stream",
     "text": [
      "Mean\t:  7.15253\n",
      "Median\t:  7.15\n",
      "Modus\t:  6.54\n",
      "Standar Deviasi\t:  1.2015975764938258\n",
      "Variansi\t:  1.4438367358358357\n",
      "Range\t\t:  8.17\n",
      "Nilai Minimum\t:  3.32\n",
      "Nilai Maksimum\t:  11.49\n",
      "Q1\t\t:  6.3774999999999995\n",
      "Q2\t\t:  7.15\n",
      "Q3\t\t:  8.0\n",
      "IQR\t\t:  1.6225000000000005\n",
      "Skewness\t:  -0.028878575532660055\n",
      "Kurtosis\t:  -0.019292120932933532\n"
     ]
    }
   ],
   "source": [
    "describeStatistics(df[\"fixed acidity\"])"
   ]
  },
  {
   "attachments": {},
   "cell_type": "markdown",
   "metadata": {},
   "source": [
    "### Deskripsi Statistika Volatile Acidity"
   ]
  },
  {
   "cell_type": "code",
   "execution_count": 14,
   "metadata": {},
   "outputs": [
    {
     "name": "stdout",
     "output_type": "stream",
     "text": [
      "Mean\t:  0.5208385000000001\n",
      "Median\t:  0.52485\n",
      "Modus\t:  0.5546\n",
      "Standar Deviasi\t:  0.09584827405534951\n",
      "Variansi\t:  0.009186891639389388\n",
      "Range\t\t:  0.6652\n",
      "Nilai Minimum\t:  0.1399\n",
      "Nilai Maksimum\t:  0.8051\n",
      "Q1\t\t:  0.4561\n",
      "Q2\t\t:  0.52485\n",
      "Q3\t\t:  0.585375\n",
      "IQR\t\t:  0.12927499999999997\n",
      "Skewness\t:  -0.1976986986092083\n",
      "Kurtosis\t:  0.16185290336961788\n"
     ]
    }
   ],
   "source": [
    "describeStatistics(df[\"volatile acidity\"])"
   ]
  },
  {
   "attachments": {},
   "cell_type": "markdown",
   "metadata": {},
   "source": [
    "### Deskripsi Statistika Citric Acid"
   ]
  },
  {
   "cell_type": "code",
   "execution_count": 15,
   "metadata": {},
   "outputs": [
    {
     "name": "stdout",
     "output_type": "stream",
     "text": [
      "Mean\t:  0.27051699999999995\n",
      "Median\t:  0.2722\n",
      "Modus\t:  0.3019\n",
      "Standar Deviasi\t:  0.04909837147076348\n",
      "Variansi\t:  0.0024106500810810814\n",
      "Range\t\t:  0.29290000000000005\n",
      "Nilai Minimum\t:  0.1167\n",
      "Nilai Maksimum\t:  0.4096\n",
      "Q1\t\t:  0.2378\n",
      "Q2\t\t:  0.2722\n",
      "Q3\t\t:  0.302325\n",
      "IQR\t\t:  0.064525\n",
      "Skewness\t:  -0.045576058685017296\n",
      "Kurtosis\t:  -0.1046792495951605\n"
     ]
    }
   ],
   "source": [
    "describeStatistics(df[\"citric acid\"])"
   ]
  },
  {
   "attachments": {},
   "cell_type": "markdown",
   "metadata": {},
   "source": [
    "### Deskripsi Statistika Residual Sugar"
   ]
  },
  {
   "cell_type": "code",
   "execution_count": 16,
   "metadata": {},
   "outputs": [
    {
     "name": "stdout",
     "output_type": "stream",
     "text": [
      "Mean\t:  2.5671036825067595\n",
      "Median\t:  2.519430272865794\n",
      "Modus\t:  0.032554525015195\n",
      "Standar Deviasi\t:  0.9879154365046929\n",
      "Variansi\t:  0.9759769096842579\n",
      "Range\t\t:  5.5182004097078625\n",
      "Nilai Minimum\t:  0.032554525015195\n",
      "Nilai Maksimum\t:  5.550754934723058\n",
      "Q1\t\t:  1.896329943488683\n",
      "Q2\t\t:  2.519430272865794\n",
      "Q3\t\t:  3.220873482829786\n",
      "IQR\t\t:  1.3245435393411031\n",
      "Skewness\t:  0.13263808618992312\n",
      "Kurtosis\t:  -0.04298003436476261\n"
     ]
    }
   ],
   "source": [
    "describeStatistics(df[\"residual sugar\"])"
   ]
  },
  {
   "attachments": {},
   "cell_type": "markdown",
   "metadata": {},
   "source": [
    "### Deskripsi Statistika Chlorides"
   ]
  },
  {
   "cell_type": "code",
   "execution_count": 17,
   "metadata": {},
   "outputs": [
    {
     "name": "stdout",
     "output_type": "stream",
     "text": [
      "Mean\t:  0.08119515250784977\n",
      "Median\t:  0.0821669021645236\n",
      "Modus\t:  0.0151224391657095\n",
      "Standar Deviasi\t:  0.020110647243996742\n",
      "Variansi\t:  0.00040443813257247374\n",
      "Range\t\t:  0.1256351302653488\n",
      "Nilai Minimum\t:  0.0151224391657095\n",
      "Nilai Maksimum\t:  0.1407575694310583\n",
      "Q1\t\t:  0.06657363190977357\n",
      "Q2\t\t:  0.0821669021645236\n",
      "Q3\t\t:  0.09531150148556258\n",
      "IQR\t\t:  0.028737869575789013\n",
      "Skewness\t:  -0.05131929742072573\n",
      "Kurtosis\t:  -0.2465081359240382\n"
     ]
    }
   ],
   "source": [
    "describeStatistics(df[\"chlorides\"])"
   ]
  },
  {
   "attachments": {},
   "cell_type": "markdown",
   "metadata": {},
   "source": [
    "### Deskripsi Statistika Free Sulfur Oxide"
   ]
  },
  {
   "cell_type": "code",
   "execution_count": 18,
   "metadata": {},
   "outputs": [
    {
     "name": "stdout",
     "output_type": "stream",
     "text": [
      "Mean\t:  14.907679251029796\n",
      "Median\t:  14.860346236568924\n",
      "Modus\t:  0.194678523326937\n",
      "Standar Deviasi\t:  4.888099705756562\n",
      "Variansi\t:  23.893518733417388\n",
      "Range\t\t:  27.26784690109891\n",
      "Nilai Minimum\t:  0.194678523326937\n",
      "Nilai Maksimum\t:  27.462525424425845\n",
      "Q1\t\t:  11.426716949457617\n",
      "Q2\t\t:  14.860346236568924\n",
      "Q3\t\t:  18.313097915395005\n",
      "IQR\t\t:  6.886380965937388\n",
      "Skewness\t:  0.007130415991143398\n",
      "Kurtosis\t:  -0.36496364342685306\n"
     ]
    }
   ],
   "source": [
    "describeStatistics(df[\"free sulfur dioxide\"])"
   ]
  },
  {
   "attachments": {},
   "cell_type": "markdown",
   "metadata": {},
   "source": [
    "### Deskripsi Statistika Total Sulfur Oxide"
   ]
  },
  {
   "cell_type": "code",
   "execution_count": 19,
   "metadata": {},
   "outputs": [
    {
     "name": "stdout",
     "output_type": "stream",
     "text": [
      "Mean\t:  40.290150000000004\n",
      "Median\t:  40.19\n",
      "Modus\t:  35.2\n",
      "Standar Deviasi\t:  9.965767376218295\n",
      "Variansi\t:  99.3165193968969\n",
      "Range\t\t:  66.80999999999999\n",
      "Nilai Minimum\t:  3.15\n",
      "Nilai Maksimum\t:  69.96\n",
      "Q1\t\t:  33.785\n",
      "Q2\t\t:  40.19\n",
      "Q3\t\t:  47.0225\n",
      "IQR\t\t:  13.237500000000004\n",
      "Skewness\t:  -0.024060026812269975\n",
      "Kurtosis\t:  0.06394978916172311\n"
     ]
    }
   ],
   "source": [
    "describeStatistics(df[\"total sulfur dioxide\"])"
   ]
  },
  {
   "attachments": {},
   "cell_type": "markdown",
   "metadata": {},
   "source": [
    "### Deskripsi Statistika Fixed Density"
   ]
  },
  {
   "cell_type": "code",
   "execution_count": 20,
   "metadata": {},
   "outputs": [
    {
     "name": "stdout",
     "output_type": "stream",
     "text": [
      "Mean\t:  0.9959253000000001\n",
      "Median\t:  0.996\n",
      "Modus\t:  0.9959\n",
      "Standar Deviasi\t:  0.0020201809426487133\n",
      "Variansi\t:  4.081131041041045e-06\n",
      "Range\t\t:  0.013799999999999923\n",
      "Nilai Minimum\t:  0.9888\n",
      "Nilai Maksimum\t:  1.0026\n",
      "Q1\t\t:  0.9946\n",
      "Q2\t\t:  0.996\n",
      "Q3\t\t:  0.9972\n",
      "IQR\t\t:  0.0025999999999999357\n",
      "Skewness\t:  -0.07688278915513917\n",
      "Kurtosis\t:  0.01636562128503849\n"
     ]
    }
   ],
   "source": [
    "describeStatistics(df[\"density\"])"
   ]
  },
  {
   "attachments": {},
   "cell_type": "markdown",
   "metadata": {},
   "source": [
    "### Deskripsi Statistika pH"
   ]
  },
  {
   "cell_type": "code",
   "execution_count": 21,
   "metadata": {},
   "outputs": [
    {
     "name": "stdout",
     "output_type": "stream",
     "text": [
      "Mean\t:  3.30361\n",
      "Median\t:  3.3\n",
      "Modus\t:  3.34\n",
      "Standar Deviasi\t:  0.10487548220040166\n",
      "Variansi\t:  0.010998866766766766\n",
      "Range\t\t:  0.7399999999999998\n",
      "Nilai Minimum\t:  2.97\n",
      "Nilai Maksimum\t:  3.71\n",
      "Q1\t\t:  3.23\n",
      "Q2\t\t:  3.3\n",
      "Q3\t\t:  3.37\n",
      "IQR\t\t:  0.14000000000000012\n",
      "Skewness\t:  0.14767259510827038\n",
      "Kurtosis\t:  0.0809095518741838\n"
     ]
    }
   ],
   "source": [
    "describeStatistics(df[\"pH\"])"
   ]
  },
  {
   "attachments": {},
   "cell_type": "markdown",
   "metadata": {},
   "source": [
    "### Deskripsi Statistika Sulphates"
   ]
  },
  {
   "cell_type": "code",
   "execution_count": 22,
   "metadata": {},
   "outputs": [
    {
     "name": "stdout",
     "output_type": "stream",
     "text": [
      "Mean\t:  0.5983899999999999\n",
      "Median\t:  0.595\n",
      "Modus\t:  0.59\n",
      "Standar Deviasi\t:  0.10081900799141187\n",
      "Variansi\t:  0.010164472372372372\n",
      "Range\t\t:  0.6699999999999999\n",
      "Nilai Minimum\t:  0.29\n",
      "Nilai Maksimum\t:  0.96\n",
      "Q1\t\t:  0.53\n",
      "Q2\t\t:  0.595\n",
      "Q3\t\t:  0.67\n",
      "IQR\t\t:  0.14\n",
      "Skewness\t:  0.1491989008699043\n",
      "Kurtosis\t:  0.06481928180859686\n"
     ]
    }
   ],
   "source": [
    "describeStatistics(df[\"sulphates\"])"
   ]
  },
  {
   "attachments": {},
   "cell_type": "markdown",
   "metadata": {},
   "source": [
    "### Deskripsi Statistika Alcohol"
   ]
  },
  {
   "cell_type": "code",
   "execution_count": 23,
   "metadata": {},
   "outputs": [
    {
     "name": "stdout",
     "output_type": "stream",
     "text": [
      "Mean\t:  10.592279999999999\n",
      "Median\t:  10.61\n",
      "Modus\t:  9.86\n",
      "Standar Deviasi\t:  1.5107060052287586\n",
      "Variansi\t:  2.282232634234234\n",
      "Range\t\t:  8.989999999999998\n",
      "Nilai Minimum\t:  6.03\n",
      "Nilai Maksimum\t:  15.02\n",
      "Q1\t\t:  9.56\n",
      "Q2\t\t:  10.61\n",
      "Q3\t\t:  11.622499999999999\n",
      "IQR\t\t:  2.0624999999999982\n",
      "Skewness\t:  -0.01899140432111647\n",
      "Kurtosis\t:  -0.13173155932281988\n"
     ]
    }
   ],
   "source": [
    "describeStatistics(df[\"alcohol\"])"
   ]
  },
  {
   "attachments": {},
   "cell_type": "markdown",
   "metadata": {},
   "source": [
    "### Deskripsi Statistika Quality"
   ]
  },
  {
   "cell_type": "code",
   "execution_count": 24,
   "metadata": {},
   "outputs": [
    {
     "name": "stdout",
     "output_type": "stream",
     "text": [
      "Mean\t:  7.958\n",
      "Median\t:  8.0\n",
      "Modus\t:  8\n",
      "Standar Deviasi\t:  0.9028017783827471\n",
      "Variansi\t:  0.8150510510510509\n",
      "Range\t\t:  5\n",
      "Nilai Minimum\t:  5\n",
      "Nilai Maksimum\t:  10\n",
      "Q1\t\t:  7.0\n",
      "Q2\t\t:  8.0\n",
      "Q3\t\t:  9.0\n",
      "IQR\t\t:  2.0\n",
      "Skewness\t:  -0.08905409122491781\n",
      "Kurtosis\t:  0.10829100232871003\n"
     ]
    }
   ],
   "source": [
    "describeStatistics(df[\"quality\"])"
   ]
  },
  {
   "attachments": {},
   "cell_type": "markdown",
   "metadata": {},
   "source": [
    "## 2. Visualisasi\n",
    "Membuat Visualisasi plot distribusi, dalam bentuk histogram dan boxplot untuk setiap kolom numerik. Berikan uraian penjelasan kondisi setiap kolom berdasarkan kedua plot tersebut.\n"
   ]
  },
  {
   "attachments": {},
   "cell_type": "markdown",
   "metadata": {},
   "source": [
    "### Visualisasi Fixed Acidity"
   ]
  },
  {
   "cell_type": "code",
   "execution_count": 28,
   "metadata": {},
   "outputs": [
    {
     "name": "stdout",
     "output_type": "stream",
     "text": [
      "Axes(0.125,0.11;0.775x0.77)\n"
     ]
    },
    {
     "data": {
      "image/png": "[encoded data removed]",
      "text/plain": [
       "<Figure size 640x480 with 1 Axes>"
      ]
     },
     "metadata": {},
     "output_type": "display_data"
    }
   ],
   "source": [
    "ax = df[\"fixed acidity\"].plot(kind = 'hist', edgecolor = 'black', title = 'Plot Distribution of Fixed Acidity')\n",
    "print(ax)"
   ]
  },
  {
   "cell_type": "code",
   "execution_count": null,
   "metadata": {},
   "outputs": [],
   "source": []
  },
  {
   "cell_type": "markdown",
   "metadata": {},
   "source": [
    "{penjelasan}"
   ]
  },
  {
   "attachments": {},
   "cell_type": "markdown",
   "metadata": {},
   "source": [
    "### Visualisasi Volatile Acidity"
   ]
  },
  {
   "cell_type": "code",
   "execution_count": 33,
   "metadata": {},
   "outputs": [
    {
     "name": "stdout",
     "output_type": "stream",
     "text": [
      "Axes(0.125,0.11;0.775x0.77)\n"
     ]
    },
    {
     "data": {
      "image/png": "[encoded data removed]",
      "text/plain": [
       "<Figure size 640x480 with 1 Axes>"
      ]
     },
     "metadata": {},
     "output_type": "display_data"
    }
   ],
   "source": [
    "ax = df[\"volatile acidity\"].plot(kind = 'hist', edgecolor = 'black', title = 'Plot Distribution of Volatile Acidity')\n",
    "print(ax)"
   ]
  },
  {
   "cell_type": "code",
   "execution_count": null,
   "metadata": {},
   "outputs": [],
   "source": []
  },
  {
   "cell_type": "markdown",
   "metadata": {},
   "source": [
    "{penjelasan}"
   ]
  },
  {
   "attachments": {},
   "cell_type": "markdown",
   "metadata": {},
   "source": [
    "### Visualisasi Citric Acid"
   ]
  },
  {
   "cell_type": "code",
   "execution_count": 32,
   "metadata": {},
   "outputs": [
    {
     "name": "stdout",
     "output_type": "stream",
     "text": [
      "Axes(0.125,0.11;0.775x0.77)\n"
     ]
    },
    {
     "data": {
      "image/png": "[encoded data removed]",
      "text/plain": [
       "<Figure size 640x480 with 1 Axes>"
      ]
     },
     "metadata": {},
     "output_type": "display_data"
    }
   ],
   "source": [
    "ax = df[\"citric acid\"].plot(kind = 'hist', edgecolor = 'black', title = 'Plot Distribution of Citric Acidity')\n",
    "print(ax)"
   ]
  },
  {
   "cell_type": "markdown",
   "metadata": {},
   "source": [
    "{penjelasan}"
   ]
  },
  {
   "attachments": {},
   "cell_type": "markdown",
   "metadata": {},
   "source": [
    "### Visualisasi Residual Sugar"
   ]
  },
  {
   "cell_type": "code",
   "execution_count": 34,
   "metadata": {},
   "outputs": [
    {
     "name": "stdout",
     "output_type": "stream",
     "text": [
      "Axes(0.125,0.11;0.775x0.77)\n"
     ]
    },
    {
     "data": {
      "image/png": "[encoded data removed]",
      "text/plain": [
       "<Figure size 640x480 with 1 Axes>"
      ]
     },
     "metadata": {},
     "output_type": "display_data"
    }
   ],
   "source": [
    "ax = df[\"residual sugar\"].plot(kind = 'hist', edgecolor = 'black', title = 'Plot Distribution of Residual Sugar')\n",
    "print(ax)"
   ]
  },
  {
   "cell_type": "code",
   "execution_count": null,
   "metadata": {},
   "outputs": [],
   "source": []
  },
  {
   "cell_type": "markdown",
   "metadata": {},
   "source": [
    "{penjelasan}"
   ]
  },
  {
   "attachments": {},
   "cell_type": "markdown",
   "metadata": {},
   "source": [
    "### Visualisasi Chlorides"
   ]
  },
  {
   "cell_type": "code",
   "execution_count": 35,
   "metadata": {},
   "outputs": [
    {
     "name": "stdout",
     "output_type": "stream",
     "text": [
      "Axes(0.125,0.11;0.775x0.77)\n"
     ]
    },
    {
     "data": {
      "image/png": "[encoded data removed]",
      "text/plain": [
       "<Figure size 640x480 with 1 Axes>"
      ]
     },
     "metadata": {},
     "output_type": "display_data"
    }
   ],
   "source": [
    "ax = df[\"chlorides\"].plot(kind = 'hist', edgecolor = 'black', title = 'Plot Distribution of Chlorides')\n",
    "print(ax)"
   ]
  },
  {
   "cell_type": "code",
   "execution_count": null,
   "metadata": {},
   "outputs": [],
   "source": []
  },
  {
   "cell_type": "markdown",
   "metadata": {},
   "source": [
    "{penjelasan}"
   ]
  },
  {
   "attachments": {},
   "cell_type": "markdown",
   "metadata": {},
   "source": [
    "### Visualisasi Free Sulfur Dioxide"
   ]
  },
  {
   "cell_type": "code",
   "execution_count": 38,
   "metadata": {},
   "outputs": [
    {
     "name": "stdout",
     "output_type": "stream",
     "text": [
      "Axes(0.125,0.11;0.775x0.77)\n"
     ]
    },
    {
     "data": {
      "image/png": "[encoded data removed]",
      "text/plain": [
       "<Figure size 640x480 with 1 Axes>"
      ]
     },
     "metadata": {},
     "output_type": "display_data"
    }
   ],
   "source": [
    "ax = df[\"free sulfur dioxide\"].plot(kind = 'hist', edgecolor = 'black', title = 'Plot Distribution of Free Sulfur Dioxide')\n",
    "print(ax)"
   ]
  },
  {
   "cell_type": "code",
   "execution_count": null,
   "metadata": {},
   "outputs": [],
   "source": []
  },
  {
   "cell_type": "markdown",
   "metadata": {},
   "source": [
    "{penjelasan}"
   ]
  },
  {
   "attachments": {},
   "cell_type": "markdown",
   "metadata": {},
   "source": [
    "### Visualisasi Total Sulfur Dioxide"
   ]
  },
  {
   "cell_type": "code",
   "execution_count": 39,
   "metadata": {},
   "outputs": [
    {
     "name": "stdout",
     "output_type": "stream",
     "text": [
      "Axes(0.125,0.11;0.775x0.77)\n"
     ]
    },
    {
     "data": {
      "image/png": "[encoded data removed]",
      "text/plain": [
       "<Figure size 640x480 with 1 Axes>"
      ]
     },
     "metadata": {},
     "output_type": "display_data"
    }
   ],
   "source": [
    "ax = df[\"total sulfur dioxide\"].plot(kind = 'hist', edgecolor = 'black', title = 'Plot Distribution of Total Sulfur Dioxide')\n",
    "print(ax)"
   ]
  },
  {
   "cell_type": "markdown",
   "metadata": {},
   "source": [
    "{penjelasan}"
   ]
  },
  {
   "attachments": {},
   "cell_type": "markdown",
   "metadata": {},
   "source": [
    "### Visualisasi Density"
   ]
  },
  {
   "cell_type": "code",
   "execution_count": 40,
   "metadata": {},
   "outputs": [
    {
     "name": "stdout",
     "output_type": "stream",
     "text": [
      "Axes(0.125,0.11;0.775x0.77)\n"
     ]
    },
    {
     "data": {
      "image/png": "[encoded data removed]",
      "text/plain": [
       "<Figure size 640x480 with 1 Axes>"
      ]
     },
     "metadata": {},
     "output_type": "display_data"
    }
   ],
   "source": [
    "ax = df[\"density\"].plot(kind = 'hist', edgecolor = 'black', title = 'Plot Distribution of Density')\n",
    "print(ax)"
   ]
  },
  {
   "cell_type": "code",
   "execution_count": null,
   "metadata": {},
   "outputs": [],
   "source": []
  },
  {
   "attachments": {},
   "cell_type": "markdown",
   "metadata": {},
   "source": [
    "{penjelasan}"
   ]
  },
  {
   "attachments": {},
   "cell_type": "markdown",
   "metadata": {},
   "source": [
    "### Visualisasi pH"
   ]
  },
  {
   "cell_type": "code",
   "execution_count": 41,
   "metadata": {},
   "outputs": [
    {
     "name": "stdout",
     "output_type": "stream",
     "text": [
      "Axes(0.125,0.11;0.775x0.77)\n"
     ]
    },
    {
     "data": {
      "image/png": "[encoded data removed]",
      "text/plain": [
       "<Figure size 640x480 with 1 Axes>"
      ]
     },
     "metadata": {},
     "output_type": "display_data"
    }
   ],
   "source": [
    "ax = df[\"pH\"].plot(kind = 'hist', edgecolor = 'black', title = 'Plot Distribution of pH')\n",
    "print(ax)"
   ]
  },
  {
   "cell_type": "code",
   "execution_count": null,
   "metadata": {},
   "outputs": [],
   "source": []
  },
  {
   "cell_type": "markdown",
   "metadata": {},
   "source": [
    "{penjelasan}"
   ]
  },
  {
   "attachments": {},
   "cell_type": "markdown",
   "metadata": {},
   "source": [
    "### Visualisasi Sulphates"
   ]
  },
  {
   "cell_type": "code",
   "execution_count": 42,
   "metadata": {},
   "outputs": [
    {
     "name": "stdout",
     "output_type": "stream",
     "text": [
      "Axes(0.125,0.11;0.775x0.77)\n"
     ]
    },
    {
     "data": {
      "image/png": "[encoded data removed]",
      "text/plain": [
       "<Figure size 640x480 with 1 Axes>"
      ]
     },
     "metadata": {},
     "output_type": "display_data"
    }
   ],
   "source": [
    "ax = df[\"sulphates\"].plot(kind = 'hist', edgecolor = 'black', title = 'Plot Distribution of Sulphates')\n",
    "print(ax)"
   ]
  },
  {
   "cell_type": "code",
   "execution_count": null,
   "metadata": {},
   "outputs": [],
   "source": []
  },
  {
   "cell_type": "markdown",
   "metadata": {},
   "source": [
    "{penjelasan}"
   ]
  },
  {
   "attachments": {},
   "cell_type": "markdown",
   "metadata": {},
   "source": [
    "### Visualisasi Alcohol"
   ]
  },
  {
   "cell_type": "code",
   "execution_count": 43,
   "metadata": {},
   "outputs": [
    {
     "name": "stdout",
     "output_type": "stream",
     "text": [
      "Axes(0.125,0.11;0.775x0.77)\n"
     ]
    },
    {
     "data": {
      "image/png": "[encoded data removed]",
      "text/plain": [
       "<Figure size 640x480 with 1 Axes>"
      ]
     },
     "metadata": {},
     "output_type": "display_data"
    }
   ],
   "source": [
    "ax = df[\"alcohol\"].plot(kind = 'hist', edgecolor = 'black', title = 'Plot Distribution of Alcohol')\n",
    "print(ax)"
   ]
  },
  {
   "cell_type": "code",
   "execution_count": null,
   "metadata": {},
   "outputs": [],
   "source": []
  },
  {
   "cell_type": "markdown",
   "metadata": {},
   "source": [
    "{penjelasan}"
   ]
  },
  {
   "attachments": {},
   "cell_type": "markdown",
   "metadata": {},
   "source": [
    "### Visualisasi Quality"
   ]
  },
  {
   "cell_type": "code",
   "execution_count": 44,
   "metadata": {},
   "outputs": [
    {
     "name": "stdout",
     "output_type": "stream",
     "text": [
      "Axes(0.125,0.11;0.775x0.77)\n"
     ]
    },
    {
     "data": {
      "image/png": "[encoded data removed]",
      "text/plain": [
       "<Figure size 640x480 with 1 Axes>"
      ]
     },
     "metadata": {},
     "output_type": "display_data"
    }
   ],
   "source": [
    "ax = df[\"quality\"].plot(kind = 'hist', edgecolor = 'black', title = 'Plot Distribution of Quality')\n",
    "print(ax)"
   ]
  },
  {
   "cell_type": "code",
   "execution_count": null,
   "metadata": {},
   "outputs": [],
   "source": []
  },
  {
   "cell_type": "markdown",
   "metadata": {},
   "source": [
    "{penjelasan}"
   ]
  },
  {
   "attachments": {},
   "cell_type": "markdown",
   "metadata": {},
   "source": [
    "## 3. Penentuan Apakah Tiap Kolom Berdistribusi Normal atau Tidak\n",
    "Menentukan setiap kolom numerik berdistribusi normal atau tidak. Gunakan normality test yang dikaitkan dengan histogram plot."
   ]
  },
  {
   "attachments": {},
   "cell_type": "markdown",
   "metadata": {},
   "source": [
    "### Fixed Acidity"
   ]
  },
  {
   "cell_type": "code",
   "execution_count": null,
   "metadata": {},
   "outputs": [],
   "source": []
  },
  {
   "attachments": {},
   "cell_type": "markdown",
   "metadata": {},
   "source": [
    "### Volatile Acidity"
   ]
  },
  {
   "cell_type": "code",
   "execution_count": null,
   "metadata": {},
   "outputs": [],
   "source": []
  },
  {
   "attachments": {},
   "cell_type": "markdown",
   "metadata": {},
   "source": [
    "### Citric Acid"
   ]
  },
  {
   "cell_type": "code",
   "execution_count": null,
   "metadata": {},
   "outputs": [],
   "source": []
  },
  {
   "attachments": {},
   "cell_type": "markdown",
   "metadata": {},
   "source": [
    "### Residual Sugar"
   ]
  },
  {
   "cell_type": "code",
   "execution_count": null,
   "metadata": {},
   "outputs": [],
   "source": []
  },
  {
   "attachments": {},
   "cell_type": "markdown",
   "metadata": {},
   "source": [
    "### Chlorides"
   ]
  },
  {
   "cell_type": "code",
   "execution_count": null,
   "metadata": {},
   "outputs": [],
   "source": []
  },
  {
   "attachments": {},
   "cell_type": "markdown",
   "metadata": {},
   "source": [
    "### Free Sulfur Dioxide"
   ]
  },
  {
   "cell_type": "code",
   "execution_count": null,
   "metadata": {},
   "outputs": [],
   "source": []
  },
  {
   "attachments": {},
   "cell_type": "markdown",
   "metadata": {},
   "source": [
    "### Density"
   ]
  },
  {
   "cell_type": "markdown",
   "metadata": {},
   "source": []
  },
  {
   "attachments": {},
   "cell_type": "markdown",
   "metadata": {},
   "source": [
    "### pH"
   ]
  },
  {
   "cell_type": "code",
   "execution_count": null,
   "metadata": {},
   "outputs": [],
   "source": []
  },
  {
   "attachments": {},
   "cell_type": "markdown",
   "metadata": {},
   "source": [
    "### Sulphates"
   ]
  },
  {
   "cell_type": "code",
   "execution_count": null,
   "metadata": {},
   "outputs": [],
   "source": []
  },
  {
   "attachments": {},
   "cell_type": "markdown",
   "metadata": {},
   "source": [
    "### Alchohol"
   ]
  },
  {
   "cell_type": "code",
   "execution_count": null,
   "metadata": {},
   "outputs": [],
   "source": []
  },
  {
   "attachments": {},
   "cell_type": "markdown",
   "metadata": {},
   "source": [
    "### Quality"
   ]
  },
  {
   "cell_type": "code",
   "execution_count": null,
   "metadata": {},
   "outputs": [],
   "source": []
  },
  {
   "attachments": {},
   "cell_type": "markdown",
   "metadata": {},
   "source": [
    "## 4. Tes Hipotesis Satu Sampel\n",
    "Melakukan test hipotesis 1 sampel, <br>\n",
    "a. Nilai rata-rata pH di atas 3.29? <br>\n",
    "b. Nilai rata-rata Residual Sugar tidak sama dengan 2.50? <br>\n",
    "c. Nilai rata-rata 150 baris pertama kolom sulphates bukan 0.65? <br>\n",
    "d. Nilai rata-rata total sulfur dioxide di bawah 35? <br>\n",
    "e. Proporsi nilai total Sulfat Dioxide yang lebih dari 40, adalah tidak sama dengan 50% ? <br>"
   ]
  },
  {
   "cell_type": "code",
   "execution_count": null,
   "metadata": {},
   "outputs": [],
   "source": []
  },
  {
   "attachments": {},
   "cell_type": "markdown",
   "metadata": {},
   "source": [
    "## 5. Tes Hipotesis Dua Sampel\n",
    "a. Data kolom fixed acidity dibagi 2 sama rata: bagian awal dan bagian akhir kolom. Benarkah rata-rata kedua bagian tersebut sama? <br>\n",
    "b. Data kolom chlorides dibagi 2 sama rata: bagian awal dan bagian akhir kolom. Benarkah rata-rata bagian awal lebih besar daripada bagian akhir sebesar 0.001? <br>\n",
    "c. Benarkah rata-rata sampel 25 baris pertama kolom Volatile Acidity sama dengan rata-rata 25 baris pertama kolom Sulphates? <br>\n",
    "d. Bagian awal kolom residual sugar memiliki variansi yang sama dengan bagian akhirnya? <br>\n",
    "e. Proporsi nilai setengah bagian awal alcohol yang lebih dari 7, adalah lebih besar daripada, proporsi nilai yang sama di setengah bagian akhir alcohol? <br>"
   ]
  },
  {
   "cell_type": "code",
   "execution_count": null,
   "metadata": {},
   "outputs": [],
   "source": []
  }
 ],
 "metadata": {
  "kernelspec": {
   "display_name": "Python 3",
   "language": "python",
   "name": "python3"
  },
  "language_info": {
   "codemirror_mode": {
    "name": "ipython",
    "version": 3
   },
   "file_extension": ".py",
   "mimetype": "text/x-python",
   "name": "python",
   "nbconvert_exporter": "python",
   "pygments_lexer": "ipython3",
   "version": "3.8.10"
  },
  "orig_nbformat": 4
 },
 "nbformat": 4,
 "nbformat_minor": 2
}
